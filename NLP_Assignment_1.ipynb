{
  "nbformat": 4,
  "nbformat_minor": 0,
  "metadata": {
    "colab": {
      "name": "Copy of NLP Assignment 1.ipynb",
      "provenance": [],
      "collapsed_sections": [
        "Dh1-kzACKrMR",
        "t1kAEzlPksAi",
        "wJjyeFT_m9-d",
        "tBKMhax-spwW",
        "aPhr9NM217v4",
        "O2YU8fww4Ix4",
        "2Y65BCLm4URK"
      ],
      "toc_visible": true,
      "include_colab_link": true
    },
    "kernelspec": {
      "name": "python3",
      "display_name": "Python 3"
    }
  },
  "cells": [
    {
      "cell_type": "markdown",
      "metadata": {
        "id": "view-in-github",
        "colab_type": "text"
      },
      "source": [
        "<a href=\"https://colab.research.google.com/github/Yaoc0009/NLP-Assignment-1/blob/main/NLP_Assignment_1.ipynb\" target=\"_parent\"><img src=\"https://colab.research.google.com/assets/colab-badge.svg\" alt=\"Open In Colab\"/></a>"
      ]
    },
    {
      "cell_type": "code",
      "metadata": {
        "id": "97vwN2VjPJwi"
      },
      "source": [
        "#Import libraries\n",
        "import pandas as pd\n",
        "import matplotlib.pyplot as plt"
      ],
      "execution_count": null,
      "outputs": []
    },
    {
      "cell_type": "markdown",
      "metadata": {
        "id": "jhLXnDB5Jcwt"
      },
      "source": [
        "# Domain Specific Dataset Analysis"
      ]
    },
    {
      "cell_type": "markdown",
      "metadata": {
        "id": "yM8UAiwEJfPW"
      },
      "source": [
        "## 1. Domain: COVID-19 Research Article Abstracts\n",
        "Source: COVID-19 Open Research Dataset Challenge ([CORD-19](https://www.kaggle.com/allen-institute-for-ai/CORD-19-research-challenge)). \n",
        "\n",
        "CORD-19 is a resource of over 200,000 scholarly articles, including over 100,000 with full text, about COVID-19, SARS-CoV-2, and related coronaviruses. In this assignment, we will use the abstracts of these articles as a domain sepcific dataset for analysis."
      ]
    },
    {
      "cell_type": "code",
      "metadata": {
        "id": "d4hsxZveKw0A"
      },
      "source": [
        "df1 = pd.read_csv('/content/drive/My Drive/NLP/CORD19/metadata.csv', dtype=str).head(20)  # only interested in the first 20 papers in this exercise\n",
        "df1.head(5).abstract.values  #sample"
      ],
      "execution_count": null,
      "outputs": []
    },
    {
      "cell_type": "markdown",
      "metadata": {
        "id": "Dh1-kzACKrMR"
      },
      "source": [
        "### 1a.Tokenization and Stemming"
      ]
    },
    {
      "cell_type": "code",
      "metadata": {
        "id": "yt7dqL_vKt3t",
        "colab": {
          "base_uri": "https://localhost:8080/"
        },
        "outputId": "cd106503-381e-405f-dbe9-e06507ebf7c5"
      },
      "source": [
        "import nltk\n",
        "nltk.download('punkt')"
      ],
      "execution_count": null,
      "outputs": [
        {
          "output_type": "stream",
          "text": [
            "[nltk_data] Downloading package punkt to /root/nltk_data...\n",
            "[nltk_data]   Unzipping tokenizers/punkt.zip.\n"
          ],
          "name": "stdout"
        },
        {
          "output_type": "execute_result",
          "data": {
            "text/plain": [
              "True"
            ]
          },
          "metadata": {
            "tags": []
          },
          "execution_count": 6
        }
      ]
    },
    {
      "cell_type": "code",
      "metadata": {
        "id": "JpdzKty8RL8a"
      },
      "source": [
        "word_tokens = nltk.word_tokenize(df1.iloc[0].abstract)\n",
        "'|'.join(word_tokens)"
      ],
      "execution_count": null,
      "outputs": []
    },
    {
      "cell_type": "code",
      "metadata": {
        "id": "XP13s0CQST5Q"
      },
      "source": [
        "word_tokens = nltk.word_tokenize(df1.iloc[1].abstract)\n",
        "'|'.join(word_tokens)"
      ],
      "execution_count": null,
      "outputs": []
    },
    {
      "cell_type": "code",
      "metadata": {
        "id": "mrluoNnAT6vG"
      },
      "source": [
        "word_tokens = nltk.word_tokenize(df1.iloc[2].abstract)\n",
        "'|'.join(word_tokens)"
      ],
      "execution_count": null,
      "outputs": []
    },
    {
      "cell_type": "code",
      "metadata": {
        "id": "C2KqQnQqUjnW"
      },
      "source": [
        "word_tokens = nltk.word_tokenize(df1.iloc[3].abstract)\n",
        "'|'.join(word_tokens)"
      ],
      "execution_count": null,
      "outputs": []
    },
    {
      "cell_type": "code",
      "metadata": {
        "id": "vNzSsoGiWFUC"
      },
      "source": [
        "word_tokens = nltk.word_tokenize(df1.iloc[4].abstract)\n",
        "'|'.join(word_tokens)"
      ],
      "execution_count": null,
      "outputs": []
    },
    {
      "cell_type": "code",
      "metadata": {
        "id": "WzCtuId3ZHTZ"
      },
      "source": [
        "word_tokens = nltk.word_tokenize(df1.iloc[5].abstract)\n",
        "'|'.join(word_tokens)"
      ],
      "execution_count": null,
      "outputs": []
    },
    {
      "cell_type": "code",
      "metadata": {
        "id": "aZFPxz3jZSvh"
      },
      "source": [
        "from nltk.stem.snowball import SnowballStemmer\n",
        "\n",
        "stemmer = SnowballStemmer(\"english\")\n",
        "stemmed = [stemmer.stem(word) for word in word_tokens]\n",
        "'|'.join(stemmed)"
      ],
      "execution_count": null,
      "outputs": []
    },
    {
      "cell_type": "code",
      "metadata": {
        "id": "l_3NrJJzffRf"
      },
      "source": [
        "def analyse_stem(stemmer, original):\n",
        "  stemmed = [stemmer.stem(word) for word in original]\n",
        "  print(\"Number of distinct tokens for original\", len(set(original)))\n",
        "  print(\"Number of distinct tokens for stemmed\", len(set(stemmed)))\n",
        "  length_dist_original = [len(word) for word in original]\n",
        "  length_dist_stemmed = [len(word) for word in stemmed]\n",
        "\n",
        "  plt.hist(length_dist_original, bins=15, alpha=0.5, label='original')\n",
        "  plt.hist(length_dist_stemmed, bins=15, alpha=0.5, label='stemmed')\n",
        "  plt.legend()"
      ],
      "execution_count": null,
      "outputs": []
    },
    {
      "cell_type": "code",
      "metadata": {
        "id": "mskuRSQxhnv0"
      },
      "source": [
        "analyse_stem(stemmer, word_tokens)"
      ],
      "execution_count": null,
      "outputs": []
    },
    {
      "cell_type": "markdown",
      "metadata": {
        "id": "t1kAEzlPksAi"
      },
      "source": [
        "### 1b. Sentence Segmentation"
      ]
    },
    {
      "cell_type": "code",
      "metadata": {
        "id": "hJkJYsg9kwn-"
      },
      "source": [
        "sent_tokens = nltk.sent_tokenize(df1.iloc[0].abstract)"
      ],
      "execution_count": null,
      "outputs": []
    },
    {
      "cell_type": "code",
      "metadata": {
        "id": "tpnauWGjlEP0"
      },
      "source": [
        "[len(nltk.word_tokenize(sent_token)) for sent_token in sent_tokens]"
      ],
      "execution_count": null,
      "outputs": []
    },
    {
      "cell_type": "markdown",
      "metadata": {
        "id": "wJjyeFT_m9-d"
      },
      "source": [
        "### 1c. POS Tagging"
      ]
    },
    {
      "cell_type": "code",
      "metadata": {
        "id": "oHVrSqVAnPc3",
        "colab": {
          "base_uri": "https://localhost:8080/",
          "height": 85
        },
        "outputId": "4c353f5b-f6ce-4f70-ef6c-171fc42ce91c"
      },
      "source": [
        "nltk.download('averaged_perceptron_tagger')"
      ],
      "execution_count": null,
      "outputs": [
        {
          "output_type": "stream",
          "text": [
            "[nltk_data] Downloading package averaged_perceptron_tagger to\n",
            "[nltk_data]     /root/nltk_data...\n",
            "[nltk_data]   Unzipping taggers/averaged_perceptron_tagger.zip.\n"
          ],
          "name": "stdout"
        },
        {
          "output_type": "execute_result",
          "data": {
            "text/plain": [
              "True"
            ]
          },
          "metadata": {
            "tags": []
          },
          "execution_count": 58
        }
      ]
    },
    {
      "cell_type": "code",
      "metadata": {
        "id": "Cn0z-Z8Mlb_5"
      },
      "source": [
        "word_tokens = nltk.word_tokenize(sent_tokens[0])\n",
        "nltk.pos_tag(word_tokens)"
      ],
      "execution_count": null,
      "outputs": []
    },
    {
      "cell_type": "code",
      "metadata": {
        "id": "RaAPlhMNofC2"
      },
      "source": [
        "from google.colab import drive\n",
        "drive.mount('/content/drive')"
      ],
      "execution_count": null,
      "outputs": []
    },
    {
      "cell_type": "markdown",
      "metadata": {
        "id": "tBKMhax-spwW"
      },
      "source": [
        "##2. Domain: Amazon Electronics Reviews"
      ]
    },
    {
      "cell_type": "markdown",
      "metadata": {
        "id": "hz3k2pbqs-gh"
      },
      "source": [
        "Source: Consumer Reviews of Amazon Products ([Datafiniti's Product Database](https://www.kaggle.com/datafiniti/consumer-reviews-of-amazon-products?select=Datafiniti_Amazon_Consumer_Reviews_of_Amazon_Products.csv)). In this assignment, we will use specifically reviews of the electronics product of the amazon products as they would have terms specific to the technology domain."
      ]
    },
    {
      "cell_type": "code",
      "metadata": {
        "id": "kqHTLqKIs43g"
      },
      "source": [
        "df2 = pd.read_csv(\"/content/drive/My Drive/NLP/AmazonReviews/Datafiniti_Amazon_Consumer_Reviews_of_Amazon_Products.csv\", dtype=str)"
      ],
      "execution_count": null,
      "outputs": []
    },
    {
      "cell_type": "code",
      "metadata": {
        "id": "n5hzrOb8xalP"
      },
      "source": [
        "df2 = df2.drop_duplicates(subset=['reviews.text'])"
      ],
      "execution_count": null,
      "outputs": []
    },
    {
      "cell_type": "code",
      "metadata": {
        "id": "WGG-ttvit4cs"
      },
      "source": [
        "df2 = df2.loc[df2['reviews.text'].str.len().sort_values()[-20:].index]['reviews.text']"
      ],
      "execution_count": null,
      "outputs": []
    },
    {
      "cell_type": "markdown",
      "metadata": {
        "id": "aPhr9NM217v4"
      },
      "source": [
        "### 2a. Tokenization and Stemming"
      ]
    },
    {
      "cell_type": "code",
      "metadata": {
        "id": "hjd9DA8hxvEE",
        "colab": {
          "base_uri": "https://localhost:8080/",
          "height": 141
        },
        "outputId": "9f4b4ef8-7933-49b2-f3cc-ca6148b25210"
      },
      "source": [
        "word_tokens = nltk.word_tokenize(df2.iloc[-1])\n",
        "\"|\".join(word_tokens)"
      ],
      "execution_count": null,
      "outputs": [
        {
          "output_type": "execute_result",
          "data": {
            "application/vnd.google.colaboratory.intrinsic+json": {
              "type": "string"
            },
            "text/plain": [
              "\"I|'ve|had|lots|of|tablets|in|the|past|,|mostly|from|the|Samsung|line|,|but|this|is|my|first|Amazon|Fire|,|so|I|want|to|write|this|review|for|others|who|have|never|tried|one|of|these|.|At|the|time|that|this|was|written|,|Alexa|had|not|been|added|to|the|tablet.First|,|while|this|device|runs|an|Android|type|of|operating|system|,|Amazon|puts|its|own|spin|on|the|operating|system|.|I|do|n't|feel|like|I|'m|using|Android|.|This|feels|different|to|me|.|It|does|n't|have|the|same|level|of|customization|that|Android|users|have|come|to|appreciate|.|That|being|said|,|if|you|are|an|Amazon|Prime|member|,|this|device|has|been|tailored|to|be|your|content|entertainment|machine|.|It|'s|simply|a|fun|way|to|consume|your|magazines|,|books|,|etc.There|are|3|on-screen|buttons|on|the|bottom|of|the|device|.|The|middle|button|immediately|takes|you|to|your|home|screen|.|The|button|to|the|left|acts|as|a|sort|of|``|back|''|button|.|It|also|lets|me|get|rid|of|my|keyboard|when|I|do|n't|need|it|on|screen|,|but|it|'s|open|.|The|button|to|the|right|is|super|important|.|It|took|me|a|couple|of|days|to|realize|what|it|does|.|That|square|shaped|button|is|what|you|press|you|see|what|apps|you|have|open|.|It|lets|you|switch|between|apps|,|but|it|also|lets|you|see|which|apps|you|have|open|and|close|them|out|.|You|can|close|them|by|pressing|the|``|X|''|button|in|the|corner|of|the|window|that|appears|or|by|touching|the|app|window|and|swiping|to|the|right|.|If|you|leave|all|of|those|apps|open|and|you|never|close|them|,|you|'ll|drain|your|battery|.|Make|sure|you|use|that|little|square|button|to|clear|your|apps.The|device|has|several|menus|that|you|swipe|left|to|view|.|First|,|you|start|with|your|home|screen|.|You|literally|can|stay|on|this|screen|and|do|anything|you|need|to|do|on|the|tablet|.|All|of|your|apps|are|housed|here|.|You|swipe|up|to|view|all|of|them|.|The|tablet|comes|with|several|apps|pre-installed|such|as|Slik|,|Amazon|'s|own|internet|browser|,|Audible|,|Good|Reads|,|the|Amazon|app|store|,|a|weather|app|,|etc|.|You|can|go|to|the|Amazon|app|store|to|download|other|apps|such|as|Twitter|,|Facebook|,|etc|.|You|can|combine|the|apps|on|this|page|into|folders|.|You|just|drag|one|app|to|another|app|and|a|folder|appears|.|This|made|my|home|screen|much|more|manageable|.|You|can|change|the|size|of|the|font|on|the|home|screen|from|normal|to|large|or|small|in|the|device|settings|.|This|feature|does|n't|necessarily|increase|the|size|of|the|font|within|your|apps|,|however|.|I|believe|it|only|changes|the|font|on|your|main|screens.If|you|have|a|magazine|or|newspaper|subscription|that|is|connected|to|your|device|,|when|you|have|a|new|issues|,|it|will|show|up|at|the|top|of|your|home|page|screen|under|the|heading|of|``|new|items|.|''|The|device|comes|with|a|free|6|month|subscription|to|the|Washington|Post|.|You|'ll|see|that|under|``|new|items|''|when|you|initially|activate|your|tablet.You|can|change|the|wallpaper|on|the|screen|to|use|one|of|your|own|photos|.|You|can|do|this|through|the|settings|menu|on|the|device|.|If|you|want|to|use|one|of|your|own|photos|,|however|,|you|need|to|either|take|it|on|the|device|or|move|it|into|Amazon|'s|Photos|app|,|which|is|a|cloud-based|app.So|far|,|I|have|n't|found|a|way|to|effectively|use|a|different|photo|management|app|that|will|let|me|change|my|wallpaper|.|I|'m|not|crazy|about|the|Amazon|Photo|app|.|I|found|it|annoying|to|move|my|photos|from|my|phone|into|Amazon|'s|cloud|just|so|I|could|view|them|on|my|tablet|.|That|being|said|,|I|'m|not|planning|to|take|photos|on|this|device|.|I|just|wanted|a|few|pet|photos|on|there|and|the|ability|to|change|my|wallpaper.Beyond|the|home|screen|,|you|can|swipe|to|the|right|to|view|your|other|screen|.|They|are|pre-arranged|to|be|:|books|,|videos|,|games|,|shop|,|apps|,|music|,|audiobooks|,|and|newstand|.|All|of|those|screens|are|connected|to|your|Amazon|account|.|For|example|,|if|you|have|Kindle|books|you|'ve|already|purchased|,|they|automatically|will|appear|under|the|Books|menu|.|Your|magazines|and|newspaper|subscriptions|will|appear|under|the|newstand|menu|.|There|does|n't|seem|to|be|a|way|to|change|the|order|of|the|menu|pages|.|That|bugs|me|,|but|it|'s|not|the|end|of|the|world|.|There|'s|also|one|menu|to|the|left|of|the|``|home|''|menu|.|It|'s|the|``|recent|''|page|.|It|shows|you|what|you|'ve|received|looked|at|on|the|tablet|.|I|never|use|it|,|but|it|might|be|handy|for|some|people.One|of|my|favorite|features|of|this|tablet|is|Amazon|'s|``|On|Deck|''|capability|.|If|you|'re|an|Amazon|Prime|member|,|Amazon|will|periodically|download|a|video|to|your|device|that|it|thinks|you|might|like|.|The|items|do|n't|count|against|your|pre-installed|memory|and|they|automatically|deleted|off|if|your|memory|starts|getting|full|.|You|can|turn|off|the|``|on|deck|''|feature|if|you|do|n't|like|it|.|I|'ve|been|content|with|the|video|playback|capability|.|This|is|n't|my|major|use|of|the|device|,|but|the|images|look|fine|and|the|audio|is|OK|.|I|'ll|talk|more|about|the|speakers|later|.|My|other|favorite|feature|of|this|tablet|is|viewing|magazine|content|through|the|Newstand|.|I|'ve|tried|3|magazines|on|here|and|they|all|look|gorgeous|.|Now|,|I|can|always|have|my|magazines|with|me|so|if|I|'m|stuck|at|the|airport|or|at|the|doctor|'s|office|,|I|always|have|them|.|One|of|my|regular|magazines|includes|a|free|digital|version|of|the|magazine|for|free|.|I|just|had|to|connect|my|account|to|the|device|.|This|allows|me|to|download|the|back|issues|of|the|magazine|for|as|long|as|I|'ve|had|an|account|.|My|other|magazine|did|n't|include|a|digital|edition|so|I|canceled|the|print|edition|of|it|and|switched|to|the|digital|version|.|(|It|was|an|inexpensive|magazine|,|anyway|.|)|There|are|several|magazines|that|you|can|try|free|for|30|days|on|the|device|.|I|did|this|with|a|third|magazine|and|decided|to|keep|it|for|a|year|.|Viewing|magazines|on|this|gadget|is|a|pleasure.The|Kindle|Fire|does|n't|come|with|the|Google|Play|store|installed|.|You|can|side|load|it|to|the|device|without|rooting|it|(|and|breaking|your|warranty|.|)|You|can|Google|to|find|the|instructions|to|do|this|.|It|'s|not|difficult|to|do|if|you|'re|fairly|comfortable|with|technology|.|It|probably|took|me|10|minutes|.|Most|of|the|apps|I|wanted|were|in|the|Amazon|store|,|but|there|were|a|handful|that|I|had|paid|for|through|Google|Play|.|The|only|way|I|could|have|them|was|to|go|back|to|access|that|store|.|They|have|worked|fine|so|far|.|I|despise|the|keyboard|that|Amazon|pre-installed|on|this|device|.|There|are|no|lines|between|the|letters|on|the|keyboard|.|I|suppose|it|designed|to|be|better|for|swyping|through|keys|,|but|I|hate|it|.|I|fixed|that|problem|by|going|to|Google|Play|and|downloading|a|new|keyboard|.|It|was|a|pretty|easy|problem|to|solve|so|I|ca|n't|complain.Apps|that|are|connecting|to|the|Internet|can|be|a|little|slow|to|load|on|this|device|compared|to|my|other|gadgets|,|but|that|generally|does|n't|bother|me|.|If|you|were|using|this|tablet|to|replace|your|personal|laptop|,|however|,|that|might|drive|you|crazy|.|The|screen|on|this|device|is|n't|bad|.|If|I|compare|it|to|my|fancy|phone|,|it|'s|not|as|shape|,|but|when|you|think|about|the|price|of|this|device|compared|to|my|smartphone|,|the|screen|is|outstanding.The|speakers|are|OK|.|There|are|two|of|them|located|on|the|bottom|of|the|screen|.|I|wo|n't|say|that|they|are|fantastic|.|They|are|n't|.|In|my|opinion|,|they|are|fine|for|watching|YouTube|or|a|television|show|.|They|are|not|OK|for|listening|to|music|if|you|are|an|audiophile|.|You|can|make|it|a|little|better|by|downloading|a|different|music|app|instead|of|relying|on|the|pre-install|app|,|but|still|your|music|will|sound|tinny|.|That|being|said|,|you|can|always|connect|your|tablet|to|a|bluetooth|speaker|,|use|a|pair|of|headphones|,|etc.This|device|was|n't|made|for|taking|pictures|.|It|has|a|front|and|back|camera|,|but|they|are|n't|designed|to|be|spectacular|.|I|'m|not|using|them.I|find|this|device|a|little|difficult|to|hold|in|my|hands|.|I|think|that|'s|partly|because|of|the|size|and|partly|because|it|feels|very|slick|.|Also|,|I|do|have|some|hand|problems|(|similar|to|someone|who|has|Carpal|Tunnel|syndrome|)|.|I|think|it|will|be|easier|to|handle|once|my|case|arrives|.|I|'m|still|waiting|for|it|.|I|'m|greatly|enjoying|this|device|.|It|'s|simply|fun|to|use|the|tablet|.|There|are|weaknesses|that|come|with|that|lower|price|tag|,|but|you|legitimately|get|a|lot|of|bang|for|your|buck|,|particularly|if|you|regularly|use|Amazon|services|.|If|you|do|n't|typically|use|Amazon|and|you|are|just|looking|for|a|tablet|for|viewing|the|Internet|and|you|'re|looking|for|a|low|price|tag|,|this|device|may|be|OK|for|you|.\""
            ]
          },
          "metadata": {
            "tags": []
          },
          "execution_count": 94
        }
      ]
    },
    {
      "cell_type": "code",
      "metadata": {
        "id": "fB2wR9T-1jzl",
        "colab": {
          "base_uri": "https://localhost:8080/",
          "height": 303
        },
        "outputId": "c851281f-f97f-4b64-9cfb-e217c12cd8f6"
      },
      "source": [
        "analyse_stem(stemmer, word_tokens)"
      ],
      "execution_count": null,
      "outputs": [
        {
          "output_type": "stream",
          "text": [
            "Number of distinct tokens for original 515\n",
            "Number of distinct tokens for stemmed 437\n"
          ],
          "name": "stdout"
        },
        {
          "output_type": "display_data",
          "data": {
            "image/png": "[encoded data removed]",
            "text/plain": [
              "<Figure size 432x288 with 1 Axes>"
            ]
          },
          "metadata": {
            "tags": [],
            "needs_background": "light"
          }
        }
      ]
    },
    {
      "cell_type": "markdown",
      "metadata": {
        "id": "O2YU8fww4Ix4"
      },
      "source": [
        "### 2b. Sentence Segmentation"
      ]
    },
    {
      "cell_type": "code",
      "metadata": {
        "id": "hFv-AcQ22N2b"
      },
      "source": [
        "sent_tokens = nltk.sent_tokenize(df2.iloc[0])"
      ],
      "execution_count": null,
      "outputs": []
    },
    {
      "cell_type": "code",
      "metadata": {
        "id": "HkIFMrcV39zg",
        "colab": {
          "base_uri": "https://localhost:8080/",
          "height": 34
        },
        "outputId": "c0de5e88-4ffe-46c4-cf0c-f02fea8e9f2a"
      },
      "source": [
        "[len(nltk.word_tokenize(sent_token)) for sent_token in sent_tokens]"
      ],
      "execution_count": null,
      "outputs": [
        {
          "output_type": "execute_result",
          "data": {
            "text/plain": [
              "[24, 8, 5, 18, 10, 8, 35, 9, 9, 24, 22, 34, 27, 5, 21, 3, 1]"
            ]
          },
          "metadata": {
            "tags": []
          },
          "execution_count": 90
        }
      ]
    },
    {
      "cell_type": "markdown",
      "metadata": {
        "id": "2Y65BCLm4URK"
      },
      "source": [
        "###2c. POS Tagging"
      ]
    },
    {
      "cell_type": "code",
      "metadata": {
        "id": "_2P3vk0j4Z6t",
        "colab": {
          "base_uri": "https://localhost:8080/",
          "height": 434
        },
        "outputId": "56a371e3-7e6b-4a4a-f751-8a89375007fe"
      },
      "source": [
        "word_tokens = nltk.word_tokenize(sent_tokens[0])\n",
        "nltk.pos_tag(word_tokens)"
      ],
      "execution_count": null,
      "outputs": [
        {
          "output_type": "execute_result",
          "data": {
            "text/plain": [
              "[('OK', 'UH'),\n",
              " (',', ','),\n",
              " ('I', 'PRP'),\n",
              " ('was', 'VBD'),\n",
              " ('so', 'RB'),\n",
              " ('unsure', 'JJ'),\n",
              " ('of', 'IN'),\n",
              " ('this', 'DT'),\n",
              " ('Kindle', 'NNP'),\n",
              " ('because', 'IN'),\n",
              " ('it', 'PRP'),\n",
              " ('does', 'VBZ'),\n",
              " ('not', 'RB'),\n",
              " ('have', 'VB'),\n",
              " ('all', 'DT'),\n",
              " ('of', 'IN'),\n",
              " ('the', 'DT'),\n",
              " ('bells', 'NNS'),\n",
              " ('and', 'CC'),\n",
              " ('whistles', 'NNS'),\n",
              " ('of', 'IN'),\n",
              " ('the', 'DT'),\n",
              " ('others', 'NNS'),\n",
              " ('.', '.')]"
            ]
          },
          "metadata": {
            "tags": []
          },
          "execution_count": 91
        }
      ]
    },
    {
      "cell_type": "markdown",
      "metadata": {
        "id": "gU1W6DgctCBd"
      },
      "source": [
        "##3. Domain: World Financial News"
      ]
    },
    {
      "cell_type": "markdown",
      "metadata": {
        "id": "wZu0Gp0dtCBk"
      },
      "source": [
        "Source: Sun, J. (2016, August). Daily News for Stock Market Prediction, Version 1. Retrieved 18th October 2020 from https://www.kaggle.com/aaron7sun/stocknews.\n",
        "Historical news headlines was crawled from Reddit WorldNews Channel (/r/worldnews). They are ranked by reddit users' votes, and only the top 25 headlines are considered for a single date."
      ]
    },
    {
      "cell_type": "code",
      "metadata": {
        "id": "iJG99uZJw5bb",
        "colab": {
          "resources": {
            "http://localhost:8080/nbextensions/google.colab/files.js": {
              "data": "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",
              "ok": true,
              "headers": [
                [
                  "content-type",
                  "application/javascript"
                ]
              ],
              "status": 200,
              "status_text": ""
            }
          },
          "base_uri": "https://localhost:8080/",
          "height": 72
        },
        "outputId": "f0af6237-5c68-4dc8-abb3-8b48cb90dc37"
      },
      "source": [
        "from google.colab import files\n",
        "uploaded = files.upload()"
      ],
      "execution_count": null,
      "outputs": [
        {
          "output_type": "display_data",
          "data": {
            "text/html": [
              "\n",
              "     <input type=\"file\" id=\"files-26135e63-7a34-4529-991d-45f58bdc9812\" name=\"files[]\" multiple disabled\n",
              "        style=\"border:none\" />\n",
              "     <output id=\"result-26135e63-7a34-4529-991d-45f58bdc9812\">\n",
              "      Upload widget is only available when the cell has been executed in the\n",
              "      current browser session. Please rerun this cell to enable.\n",
              "      </output>\n",
              "      <script src=\"/nbextensions/google.colab/files.js\"></script> "
            ],
            "text/plain": [
              "<IPython.core.display.HTML object>"
            ]
          },
          "metadata": {
            "tags": []
          }
        },
        {
          "output_type": "stream",
          "text": [
            "Saving stockerbot-export.csv to stockerbot-export.csv\n"
          ],
          "name": "stdout"
        }
      ]
    },
    {
      "cell_type": "code",
      "metadata": {
        "id": "3Q0qM5MYEPU9",
        "colab": {
          "base_uri": "https://localhost:8080/"
        },
        "outputId": "c974d07f-e821-424a-b50f-d59d17877952"
      },
      "source": [
        "from pandas import DataFrame\n",
        "\n",
        "fintweets = pd.read_csv('stockerbot-export.csv', dtype=str,warn_bad_lines=True, error_bad_lines=False)"
      ],
      "execution_count": null,
      "outputs": [
        {
          "output_type": "stream",
          "text": [
            "b'Skipping line 731: expected 8 fields, saw 13\\nSkipping line 2836: expected 8 fields, saw 15\\nSkipping line 3058: expected 8 fields, saw 12\\nSkipping line 3113: expected 8 fields, saw 12\\nSkipping line 3194: expected 8 fields, saw 17\\nSkipping line 3205: expected 8 fields, saw 17\\nSkipping line 3255: expected 8 fields, saw 17\\nSkipping line 3520: expected 8 fields, saw 17\\nSkipping line 4078: expected 8 fields, saw 17\\nSkipping line 4087: expected 8 fields, saw 17\\nSkipping line 4088: expected 8 fields, saw 17\\nSkipping line 4499: expected 8 fields, saw 12\\n'\n"
          ],
          "name": "stderr"
        }
      ]
    },
    {
      "cell_type": "code",
      "metadata": {
        "id": "STY7BY-1F-oT",
        "colab": {
          "base_uri": "https://localhost:8080/"
        },
        "outputId": "0713c033-cdbf-42b3-cb63-1d9aa8f058a4"
      },
      "source": [
        "df3 = fintweets['text'].head(150)\n",
        "df3"
      ],
      "execution_count": null,
      "outputs": [
        {
          "output_type": "execute_result",
          "data": {
            "text/plain": [
              "0      VIDEO: “I was in my office. I was minding my o...\n",
              "1      The price of lumber $LB_F is down 22% since hi...\n",
              "2      Who says the American Dream is dead? https://t...\n",
              "3      Barry Silbert is extremely optimistic on bitco...\n",
              "4      How satellites avoid attacks and space junk wh...\n",
              "                             ...                        \n",
              "145    Mettler-Toledo International $MTD &amp; Quante...\n",
              "146    RT @beep_eminent: $EMN Eminent Token FUEL for ...\n",
              "147    RT @beep_eminent: The $EMN EMINENT token which...\n",
              "148    Head-To-Head Comparison: Quanterix $QTRX vs. M...\n",
              "149    Nuance Communications $NUAN Upgraded by ValuEn...\n",
              "Name: text, Length: 150, dtype: object"
            ]
          },
          "metadata": {
            "tags": []
          },
          "execution_count": 7
        }
      ]
    },
    {
      "cell_type": "markdown",
      "metadata": {
        "id": "-QX6u7gJtCCA"
      },
      "source": [
        "### 3a. Tokenization and Stemming"
      ]
    },
    {
      "cell_type": "code",
      "metadata": {
        "id": "pca0zfpqZi5k",
        "colab": {
          "base_uri": "https://localhost:8080/"
        },
        "outputId": "e501316d-64d7-41a5-b1de-0ee9f83a149b"
      },
      "source": [
        "import nltk\n",
        "nltk.download('punkt')"
      ],
      "execution_count": null,
      "outputs": [
        {
          "output_type": "stream",
          "text": [
            "[nltk_data] Downloading package punkt to /root/nltk_data...\n",
            "[nltk_data]   Unzipping tokenizers/punkt.zip.\n"
          ],
          "name": "stdout"
        },
        {
          "output_type": "execute_result",
          "data": {
            "text/plain": [
              "True"
            ]
          },
          "metadata": {
            "tags": []
          },
          "execution_count": 8
        }
      ]
    },
    {
      "cell_type": "code",
      "metadata": {
        "id": "sy4TV4_-tCCC",
        "colab": {
          "base_uri": "https://localhost:8080/",
          "height": 1000
        },
        "outputId": "fa773f7e-2a60-4db8-97e2-fa9968805dc9"
      },
      "source": [
        "word_tokens = []\n",
        "for i in range(df3.shape[0]):\n",
        "  word_tokens = word_tokens + nltk.word_tokenize(df3[i])\n",
        "\"|\".join(word_tokens)"
      ],
      "execution_count": null,
      "outputs": [
        {
          "output_type": "execute_result",
          "data": {
            "application/vnd.google.colaboratory.intrinsic+json": {
              "type": "string"
            },
            "text/plain": [
              "\"VIDEO|:|“|I|was|in|my|office|.|I|was|minding|my|own|business|...|”|–David|Solomon|tells|$|GS|interns|how|he|learned|he|wa…|https|:|//t.co/QClAITywXV|The|price|of|lumber|$|LB_F|is|down|22|%|since|hitting|its|YTD|highs|.|The|Macy|'s|$|M|turnaround|is|still|happening.…|https|:|//t.co/XnKsV4De39|Who|says|the|American|Dream|is|dead|?|https|:|//t.co/CRgx19x7sA|Barry|Silbert|is|extremely|optimistic|on|bitcoin|--|but|predicts|that|99|%|of|new|crypto|entrants|are|“|going|to|zero…|https|:|//t.co/mGMVo2cZgY|How|satellites|avoid|attacks|and|space|junk|while|circling|the|Earth|https|:|//t.co/aHzIV3Lqp5|#|paid|@|Oracle|https|:|//t.co/kacpqZWiDJ|.|@|RealMoney|'s|David|Butler|'s|favorite|FANG|stock|is|n't|#|RealMoneySOD|Alphabet|but|Facebook|https|:|//t.co/MczAPSFjOi|Don|’|t|miss|my|convo|with|one|of|my|favorite|thinkers|@|SamHarrisOrg|!|https|:|//t.co/uuPVxIobCh|U.S.|intelligence|documents|on|Nelson|Mandela|made|public|https|:|//t.co/XTnEfo1rO6|https|:|//t.co/V8DXkWDQ6R|Senate|wants|emergency|alerts|to|go|out|through|Netflix|Spotify|etc|.|https|:|//t.co/23yy3whBlc|by|@|grg|Hedge|fund|manager|Marc|Larsy|says|bitcoin|$|40K|is|possible|https|:|//t.co/54uPe0OWqT|U.S.|proposes|expedited|appeal|in|fight|with|AT|&|amp|;|T|over|Time|Warner|purchase|https|:|//t.co/BtjhzdE3Nu|https|:|//t.co/Gh32ZJ4vPO|Roger|Federer|'s|Uniqlo|deal|makes|him|one|of|the|few|athletes|to|earn|more|than|$|70M|from|endorsements…|https|:|//t.co/jQ8sOAyeBQ|Bond|traders|are|ahead|of|Jerome|Powell|when|it|comes|to|inflation|expectations|https|:|//t.co/DkdZLcy3mT|via…|https|:|//t.co/UCX7EiHP4r|Alcoa|cuts|adjusted|EBITDA|forecast|citing|tariffs|shares|slide|https|:|//t.co/mdMJXjnYIs|https|:|//t.co/5O8fvwlHpY|Customers|urge|boycott|of|MGM|Resorts|after|the|casino|files|lawsuits|against|mass|shooting|victims…|https|:|//t.co/dAhk87dPmA|The|gap|tightens|in|the|race|to|a|trillion|dollar|valuation|as|Amazon|hits|$|900|billion|https|:|//t.co/zjzm25Aglq|via…|https|:|//t.co/difuFt6sGp|President|Trump|endorses|Brian|Kemp|over|Casey|Cagle|in|Georgia|governor|’|s|race|https|:|//t.co/VhgN5rNRAW|White|House|struggles|to|contain|fallout|from|Trump-Putin|summit|https|:|//t.co/NtzACHJibs|https|:|//t.co/fLshAUDRzs|Lakers|guard|Hart|named|summer|league|MVP|and|more|U.S.|sports|headlines|https|:|//t.co/RVryAQdPqd|https|:|//t.co/r5x71iFFSL|Only|two|northern|white|rhinos|still|exist|making|it|the|world|'s|most|endangered|subspecies|of|mammal|https|:|//t.co/WeJufervx6|Trump|tells|CBS|he|'s|``|always|wanted|''|to|be|interviewed|by|Special|Counsel|Mueller|but|deflected|questions|on|whethe…|https|:|//t.co/at43BIGpDh|Templeton|and|BlackRock|say|now|'s|the|time|to|buy|emerging|markets|https|:|//t.co/h4z90nxqwH|https|:|//t.co/6FkVrZlu3j|Charts|say|#|RealMoneySOD|$|GOOGL|could|rise|17|%|or|more|from|here|:|@|BruceKamich|https|:|//t.co/cZbRY4daHN|EBay|revenue|misses|as|weak|U.S.|sporting|season|hits|StubHub|https|:|//t.co/3RdnkMVUn8|https|:|//t.co/N6iXpxEZjG|New|York|City|will|force|Airbnb|to|disclose|information|on|its|hosts|https|:|//t.co/jdq88zBMGR|https|:|//t.co/9SPvNk6cVU|RT|@|josheidelson|:|Exclusive|:|Elon|Musk|called|Sierra|Club|'s|executive|director|Saturday|and|``|asked|for|some|help|via|Twitter|''|the|green|gr…|New|time|:|Janet|Yellen|and|I|in|conversation|at|Brookings|on|Feb.|27|at|2|PM|EST|.|Join|us|online|or|on|Facebook|Liv…|https|:|//t.co/hDg7X5Rc5P|The|robot|homie|R2-D2|told|me|to|buy|sell|and|hold|Fidelity|National|Information|Services|$|FIS|#|BullMarket|Arthur|J|Gallagher|&|amp|;|Co|$|AJG|vs.|Marsh|&|amp|;|McLennan|Companies|$|MMC|Critical|Contrast|https|:|//t.co/aETTR2nZEq|Arthur|J|Gallagher|&|amp|;|Co|$|AJG|vs.|Marsh|&|amp|;|McLennan|Companies|$|MMC|Critical|Contrast|https|:|//t.co/CDjCvAKg5D|$|INFO|$|C|Asia|Stocks|Signal|Gains|;|Dollar|Weakness|Watched|:|Markets|Wrap|via|https|:|//t.co/jURZDymPXI|RT|@|dailypoliticaln|:|Fluor|Co.|$|NEW|$|FLR|Stock|Rating|Upgraded|by|Zacks|Investment|Research|https|:|//t.co/bpNgSoZjMH|Avery|Dennison|Corporation|$|AVY|EPS|Estimated|At|$|1.56|-|https|:|//t.co/YgOBsCXV2k|What|'s|shaking|guys|?|Inflation|&|amp|;|bank|earnings|are|some|of|your|market|shakers|this|week|:|https|:|//t.co/zUj03RrzaF…|https|:|//t.co/cEWyQtbwVs|EPS|for|Avery|Dennison|Corporation|$|AVY|Expected|At|$|1.56|https|:|//t.co/JgH1US4tJT|Avery|Dennison|Corporation|$|AVY|EPS|Estimated|At|$|1.56|-|https|:|//t.co/TGdsFYlo7V|RT|@|oliviabvoz|:|What|'s|shaking|guys|?|Inflation|&|amp|;|bank|earnings|are|some|of|your|market|shakers|this|week|:|https|:|//t.co/zUj03RrzaF|$|PEP|$|FST…|Do|you|know|that|#|Book|Value|for|$|XYL|is|$|13.92|https|:|//t.co/P8NnY8vkF6|Do|you|know|that|#|WallStreet|price|for|$|IRM|is|$|38.83|https|:|//t.co/K8TFsUFESC|Wondering|about|risks|of|$|IRM|?|The|21-day|volatility|is|4.12|%|https|:|//t.co/6KpJaP4fac|$|ORLY|Max|Pain=280.00|.|Maturity=07/20/2018|.|#|maxpain|#|options|https|:|//t.co/E1QxoAmxz0|https|:|//t.co/SIIeXlCE1t|$|AVB|Max|Pain=170.00|.|Maturity=07/20/2018|.|#|maxpain|#|options|https|:|//t.co/YSw8y4pvl1|https|:|//t.co/55GYLNJKC1|$|CUBE|$|EXR|$|HOG|$|KO|$|LSI|$|PSA|$|IRM|https|:|//t.co/n2jGUHZqx1|MTTS|WEEKLY|WATCHLIST|FOR|JULY|9TH|2018|$|CXO|$|HP|$|RSPP|https|:|//t.co/poc5zDyb4j|Analysts|Expect|Mosaic|Co|$|MOS|Will|Announce|Earnings|of|$|0.38|Per|Share|https|:|//t.co/wUz5n5cRYO|$|2.29|Billion|in|Sales|Expected|for|Mosaic|Co|$|MOS|This|Quarter|https|:|//t.co/TvQE3lexlH|In|2|days|I|doubled|my|account|with|the|option|trades|from|https|:|//t.co/fuqGGnsGDs|#|winners|#|nojoke|$|XRX|$|MRTX…|https|:|//t.co/zGFIrUGsVq|$|NI|high|OI|range|is|26.00|to|26.00|for|option|expiration|07/20/2018|#|maxpain|#|options|https|:|//t.co/SofR3EIASh|https|:|//t.co/1BiDccf6kl|RT|@|TradeSatoshi|:|$|AMG|AMGCHAIN|will|be|delisted|from|Tradesatoshi|the|31/07/18|devs|reset|the|blockchain|and|did|not|inform|us|causing|lo…|Payments|halted|under|Obamacare|program|https|:|//t.co/yuveHjiqti|$|UNH|$|AET|$|ANTM|$|CI|$|HUM|$|WCG|$|CNC|$|MOH…|https|:|//t.co/brxhRXNKGM|RT|@|forever_t_2000|:|Theres|goes|$|SODE|breaking|things|again|.|At|least|they|'re|getting|paid|to|fix|it|.|$|ACM|$|AEGN|$|AGX|$|BFLBF|$|BLD|$|DY|$|EM…|$|JEC|Max|Pain=65.00|.|Maturity=07/20/2018|.|#|maxpain|#|options|https|:|//t.co/UsAbQ5qAuk|https|:|//t.co/xO6Ew72bWA|RT|@|forever_t_2000|:|Theres|goes|$|SODE|breaking|things|again|.|At|least|they|'re|getting|paid|to|fix|it|.|$|ACM|$|AEGN|$|AGX|$|BFLBF|$|BLD|$|DY|$|EM…|Short|sale|volume|(|not|short|interest|)|for|$|IJR|on|2018-07-06|is|78|%|.|https|:|//t.co/sJqeEvuEQm|$|SENS|80|%|$|DVN|67|%|$|XLY|54|%|$|ODP|46|%|$|COO|high|OI|range|is|220.00|to|250.00|for|option|expiration|07/20/2018|#|maxpain|#|options|https|:|//t.co/MWW1X55Xnb|https|:|//t.co/9fTdfqcclB|RT|@|forever_t_2000|:|Theres|goes|$|SODE|breaking|things|again|.|At|least|they|'re|getting|paid|to|fix|it|.|$|ACM|$|AEGN|$|AGX|$|BFLBF|$|BLD|$|DY|$|EM…|$|SNPS|had|hired|more|while|rival|$|CDNS|had|reduced|headcount|https|:|//t.co/ErNHkTPuHR|$|INFO|$|PEP|Five|Things|You|Need|to|Know|to|Start|Your|Day|via|https|:|//t.co/jURZDymPXI|new|#|jobs|#|opening|growth|$|SNPS|v/s|$|CDNS|https|:|//t.co/lNW3lLs96a|RT|@|WallStJesus|:|Repeat|buying|in|biotech|$|ARRY|https|:|//t.co/gfThduDYw6|$|REG|Max|Pain|is|60.00|for|maturity|07/20/2018|.|#|maxpain|#|options|https|:|//t.co/5wnNLwjMl5|https|:|//t.co/coNB8dr1lx|RT|@|oliviabvoz|:|What|'s|shaking|guys|?|Inflation|&|amp|;|bank|earnings|are|some|of|your|market|shakers|this|week|:|https|:|//t.co/zUj03RrzaF|$|PEP|$|FST…|RT|@|OptionsHawk|:|$|AJG|CEO|bought|$|600K|in|stock|may|be|one|to|follow|always|been|a|preferred|play|of|mine|in|this|group|sitting|right|on…|RT|@|tradewithjoe|:|JULY|19|and|20|calls|active|today|-|$|ARRY|https|:|//t.co/6P8ZLv6CVv|Robert|Half|International|Inc.|$|RHI|Analysts|See|$|0.85|EPS|-|https|:|//t.co/YmS25tsO8A|$|0.85|EPS|Expected|for|Robert|Half|International|Inc.|$|RHI|https|:|//t.co/uHEQbYjnX1|EPS|for|Robert|Half|International|Inc.|$|RHI|Expected|At|$|0.85|-|https|:|//t.co/9zx0sjUaNr|RT|@|MttsTrading|:|MTTS|WEEKLY|WATCHLIST|FOR|JULY|9TH|2018|$|CXO|$|HP|$|RSPP|https|:|//t.co/poc5zDyb4j|RT|@|WallStJesus|:|Repeat|buying|in|biotech|$|ARRY|https|:|//t.co/gfThduDYw6|INSIDE|WK|SCAN|$|AKAM|$|AMAT|$|AXP|$|BA|$|BLUE|$|BOX|$|BZUN|$|C|$|CAT|$|CMCSA|$|CSCO|$|DBX|$|DIS|$|DE|$|DOCU|$|DLTR|$|EBAY|$|FDX…|https|:|//t.co/c1lAquqUfU|$|JD|$|ARRY|$|PYPL|$|UIS|5min|--|Daily|setups|for|Monday|.|https|:|//t.co/QrlBGCSruN|RT|@|dgarciacharts|:|INSIDE|WK|SCAN|$|AKAM|$|AMAT|$|AXP|$|BA|$|BLUE|$|BOX|$|BZUN|$|C|$|CAT|$|CMCSA|$|CSCO|$|DBX|$|DIS|$|DE|$|DOCU|$|DLTR|$|EBAY|$|FDX|$|FEYE|$|FS…|RT|@|WallStJesus|:|Repeat|buying|in|biotech|$|ARRY|https|:|//t.co/gfThduDYw6|Short|sale|vol|(|not|short|interest|)|for|$|CYH|on|2018-07-06|is|72|%|.|https|:|//t.co/Ev0VoqfMLV|$|THC|65|%|$|SEM|48|%|$|SSY|32|%|$|HCA|62|%|RT|@|forever_t_2000|:|Theres|goes|$|SODE|breaking|things|again|.|At|least|they|'re|getting|paid|to|fix|it|.|$|ACM|$|AEGN|$|AGX|$|BFLBF|$|BLD|$|DY|$|EM…|Finisar|Co.|$|FNSR|Expected|to|Announce|Quarterly|Sales|of|$|315.26|Million|https|:|//t.co/Ns3mDf4jVa|Finisar|Co.|$|FNSR|Expected|to|Post|Quarterly|Sales|of|$|315.26|Million|https|:|//t.co/RfBRipR0zq|Possible|plays|:|$|SGMO|$|TXMD|$|ABUS|$|VKTX|$|ECYT|$|VSTM|$|SGYP|$|TRVN|$|NVAX|$|OPK|$|OCUL|$|GERN|$|VRX|$|TSRO|$|AKAO|Let|’|s|see|what|I|pick|.|Follow|!|📈|RT|@|tradewithjoe|:|$|SPY|OPTIONS|FLOW|ALERTS|-|https|:|//t.co/NZc3w6bzNI|$|EEM|$|ARRY|$|CARS|$|JD|$|BLL|$|V|$|CAZR|$|BX|$|VIPS|$|OPK|$|BAC|$|WFC|$|XOP|$|JW…|RT|@|dgarciacharts|:|INSIDE|WK|SCAN|$|AKAM|$|AMAT|$|AXP|$|BA|$|BLUE|$|BOX|$|BZUN|$|C|$|CAT|$|CMCSA|$|CSCO|$|DBX|$|DIS|$|DE|$|DOCU|$|DLTR|$|EBAY|$|FDX|$|FEYE|$|FS…|Buying|in|options|land|on|Friday|7/6|!|$|QSR|$|IGT|$|SKX|$|VOYA|$|FCX|$|NVO|$|PXD|$|VIPS|$|VVV|$|SGMS|$|PII|$|ETFC|$|BLL|$|GPRO…|https|:|//t.co/zcyw6K1VTv|Short|sale|volume|(|not|short|interest|)|for|$|WU|on|2018-07-06|is|38|%|.|https|:|//t.co/MN0BezRLba|$|FIS|45|%|$|MA|58|%|$|MGI|26|%|$|WEX|53|%|Weekly|Recap|:|$|HSY|price|moved|4.28|%|since|post|-|next|stop|98.50|.|Other|trades|included|AA|SPY|BABA|MDSO|AYI|FB|SH…|https|:|//t.co/uGd8Esohx8|$|ANSS|high|OI|range|is|150.00|to|170.00|for|option|expiration|07/20/2018|#|maxpain|#|options|https|:|//t.co/l4WbKAgcvU|https|:|//t.co/9ijKHXTPYu|RT|@|oliviabvoz|:|What|'s|shaking|guys|?|Inflation|&|amp|;|bank|earnings|are|some|of|your|market|shakers|this|week|:|https|:|//t.co/zUj03RrzaF|$|PEP|$|FST…|Monday|’|s|Watch1|$|AMZN|$|GOOGL|$|FB|$|AAPL|$|AMD|$|BIDU|$|BABA|$|BTC.X|$|ETH.X|$|BIIB|$|CELG|$|GILD|$|INTC|$|JD|$|ARQL|$|ARRY|$|ARWR…|https|:|//t.co/Ku6wqg8ECi|$|PNR|broker|price|target|0.36|https|:|//t.co/DHaGJaArxd|https|:|//t.co/OBz0UXv4jb|RT|@|mchaudhry82|:|Monday|’|s|Watch1|$|AMZN|$|GOOGL|$|FB|$|AAPL|$|AMD|$|BIDU|$|BABA|$|BTC.X|$|ETH.X|$|BIIB|$|CELG|$|GILD|$|INTC|$|JD|$|ARQL|$|ARRY|$|ARWR|$|ENDP…|Short|sale|vol|(|not|short|interest|)|for|$|AMAT|on|2018-07-06|is|38|%|.|https|:|//t.co/h8sUZH3HlD|$|LRCX|39|%|$|SNPS|34|%|$|TER|51|%|$|KLAC|55|%|RT|@|forever_t_2000|:|Theres|goes|$|SODE|breaking|things|again|.|At|least|they|'re|getting|paid|to|fix|it|.|$|ACM|$|AEGN|$|AGX|$|BFLBF|$|BLD|$|DY|$|EM…|$|MOS|D1|outside|day|&|gt|;|50SMA|https|:|//t.co/aQ5Tf1kEKy|$|0.46|EPS|Expected|for|DDR|Corp.|$|DDR|https|:|//t.co/a94iNGFhS8|RT|@|kelvo1972|:|My|watch|list|for|tomorrow|.|$|FB|$|AAPL|$|BA|$|NVDA|$|BABA|$|EL|Same|as|always|.|When|you|learn|and|tune|in|to|a|small|hand|full|of…|REVERSE|MERGER|TWEET|$|qqq|$|aapl|$|tvix|$|veon|$|csco|$|siri|$|rook|$|mu|$|msft|$|fb|$|sqqq|$|intc|$|cmcsa|$|amat|$|nvda|$|sgmo…|https|:|//t.co/evp23dqMFp|Swing|Trading|-|Watchlist|this|week|-|Chart|CandleGlance|$|IPGP|$|VRNS|$|ANET|$|MDB|$|TIF|$|OLLI|$|EXPD|$|EA|$|KMG|$|HD…|https|:|//t.co/YNU9j6qS1j|REVERSE|MERGER|TWEET|$|PTEN|$|NWL|$|TJX|$|EPD|$|TBT|$|NE|$|TAL|$|SPXS|$|MXIM|$|WELL|$|MMM|$|SRC|$|CSX|$|KBR|$|MHK|$|ODP|$|MHK|$|SRC…|https|:|//t.co/Pf7doc6AWB|RT|@|forever_t_2000|:|Theres|goes|$|SODE|breaking|things|again|.|At|least|they|'re|getting|paid|to|fix|it|.|$|ACM|$|AEGN|$|AGX|$|BFLBF|$|BLD|$|DY|$|EM…|RT|@|OneOClockDrop|:|REVERSE|MERGER|TWEET|$|PTEN|$|NWL|$|TJX|$|EPD|$|TBT|$|NE|$|TAL|$|SPXS|$|MXIM|$|WELL|$|MMM|$|SRC|$|CSX|$|KBR|$|MHK|$|ODP|$|MHK|$|SRC|$|PEP|$|…|$|3.98|Billion|in|Sales|Expected|for|Jacobs|Engineering|Group|Inc|$|JEC|This|Quarter|https|:|//t.co/IIxNxLmm3r|$|ABG|$|ALGN|$|BA|$|DLTR|$|HTHT|$|KORS|$|NSP|$|SPY|$|URI|https|:|//t.co/CStZ6m4whm|Short|sale|volume|(|not|short|interest|)|for|$|D|on|2018-07-06|is|60|%|.|https|:|//t.co/lSB9hLO5Re|$|AEE|58|%|$|CMS|58|%|$|EXC|49|%|$|SRE|56|%|$|AJG|Arthur|J.|Gallagher|&|amp|;|Co.|Acquires|Milne|Alexander|From|our|Stock|News|Alerts|App|A|portfolio|for|@|johnauthers|.|$|ABG|$|ALGN|$|BA|$|DLTR|$|HTHT|$|KORS|$|NSP|$|SPY|$|URI|https|:|//t.co/joWdEKXF44|Zacks|:|Brokerages|Anticipate|Aon|PLC|$|AON|Will|Post|Quarterly|Sales|of|$|2.50|Billion|https|:|//t.co/z6yqECpIVS|Contrasting|Miragen|Therapeutics|$|MGEN|&|amp|;|Laboratory|Corp.|of|America|$|LH|https|:|//t.co/t5njE0kSyf|$|AAN|$|AAPL|$|ABBV|$|ADM|$|AFL|$|ALLE|$|AM|$|AMGP|$|AMP|$|AMT|$|ANDX|$|AON|$|AOS|$|APD|$|APOG|$|AQN|$|AVGO|$|AY|$|BAC|$|BAM|$|BEP|$|BIP|https|:|//t.co/9k5FoGxr9m|Apartment|Investment|and|Management|’|s|$|AIV|“|Hold|”|Rating|Reiterated|at|BMO|Capital|Markets|https|:|//t.co/6UB1H9AlYc|Everest|Re|Group|$|RE|and|Heritage|Insurance|$|HRTG|Critical|Contrast|https|:|//t.co/LSiXQGnwYl|$|AR|$|CGC|$|DAVE|$|GNC|$|HSY|$|ICON|$|KMB|$|M|$|PEP|$|PG|$|RRC|$|SMRT|$|WTW|https|:|//t.co/CTcJlHVVlZ|RT|@|SeekingAlpha|:|$|AR|$|CGC|$|DAVE|$|GNC|$|HSY|$|ICON|$|KMB|$|M|$|PEP|$|PG|$|RRC|$|SMRT|$|WTW|https|:|//t.co/CTcJlHVVlZ|The|Western|Union|$|WU|Stock|Rating|Upgraded|by|Zacks|Investment|Research|https|:|//t.co/qLDhH48Fm0|The|Western|Union|$|WU|Stock|Rating|Upgraded|by|Zacks|Investment|Research|https|:|//t.co/UuUlg2PWeu|WestRock|$|WRK|Given|a|$|63.00|Price|Target|at|Stephens|https|:|//t.co/vNBFXavgcP|Analyzing|PJT|Partners|$|PJT|&|amp|;|Affiliated|Managers|Group|$|AMG|https|:|//t.co/vnRFGWaBpW|WestRock|$|WRK|Given|a|$|63.00|Price|Target|at|Stephens|https|:|//t.co/WcU2tkTB4V|C.H|.|Robinson|Worldwide|$|CHRW|versus|Expeditors|International|of|Washington|$|EXPD|Head-To-Head|Analysis|https|:|//t.co/YflkRx4O87|Critical|Survey|:|C.H|.|Robinson|Worldwide|$|CHRW|and|Expeditors|International|of|Washington|$|EXPD|https|:|//t.co/P5nmJWMRDY|Affiliated|Managers|Group|$|AMG|versus|PJT|Partners|$|PJT|Critical|Analysis|https|:|//t.co/8CpfXaXzYb|$|PNR|ready|to|attack|🗡|recent|highs|.|needs|volume|🚀🚨|https|:|//t.co/0YgE51Dvcp|Argus|Trims|Harris|$|HRS|Target|Price|to|$|170.00|https|:|//t.co/CjFTg7CAfR|Advance|Auto|Parts|$|AAP|Rating|Increased|to|Buy|at|ValuEngine|https|:|//t.co/kZqLnVusB5|RT|SeekingAlpha|``|$|BWP|$|NS|$|SMLP|$|MMP|$|BPL|$|BKEP|$|CEQP|$|NSH|$|PAGP|$|OKE|$|SEMG|$|TGE|$|ENB|$|IPPLF|$|PPL|$|KEY|$|BIP|$|TOO…|https|:|//t.co/lNIawBTBLF|RT|SeekingAlpha|``|$|ABG|$|ALGN|$|BA|$|DLTR|$|HTHT|$|KORS|$|NSP|$|SPY|$|URI|https|:|//t.co/yXn1f1x93I|''|RT|SeekingAlpha|``|$|AAN|$|AAPL|$|ABBV|$|ADM|$|AFL|$|ALLE|$|AM|$|AMGP|$|AMP|$|AMT|$|ANDX|$|AON|$|AOS|$|APD|$|APOG|$|AQN|$|AVGO|$|AY…|https|:|//t.co/qQHyDckKJR|RT|SeekingAlpha|``|$|AR|$|CGC|$|DAVE|$|GNC|$|HSY|$|ICON|$|KMB|$|M|$|PEP|$|PG|$|RRC|$|SMRT|$|WTW|https|:|//t.co/nleWSJ1eZe|''|Q2|$|QTWO|versus|ANSYS|$|ANSS|Critical|Review|https|:|//t.co/B3UyB4F1qA|Head-To-Head|Review|:|Q2|$|QTWO|vs.|ANSYS|$|ANSS|https|:|//t.co/2DEtiOaBgM|$|AON|@|ApolloMinerals|–|Excellent|Infrastructure|and|Ground|Conditions|Confirmed|At|Historical|Salau|#|Tungsten|Mine|https|:|//t.co/0EXvMujfVA|RT|@|themotleyfool|:|2|true-blue|tech|plays|plus|a|tooth|tech|play|.|And|all|3|look|undervalued|.|$|IBM|$|MU|$|XRAY|https|:|//t.co/lRXGdgG0nL|Head|to|Head|Review|:|Mettler-Toledo|International|$|MTD|&|amp|;|Fluidigm|$|FLDM|https|:|//t.co/lyK912kYXI|DENTSPLY|SIRONA|$|XRAY|Upgraded|to|Hold|at|BidaskClub|https|:|//t.co/IxDxf7yDpo|DENTSPLY|SIRONA|$|XRAY|Upgraded|at|BidaskClub|https|:|//t.co/jMfwmJXPYZ|RT|@|Brand_UK|:|$|AON|@|ApolloMinerals|–|Excellent|Infrastructure|and|Ground|Conditions|Confirmed|At|Historical|Salau|#|Tungsten|Mine|https|:|//t.…|Zacks|Investment|Research|Upgrades|Torchmark|$|TMK|to|Buy|https|:|//t.co/BVaSeDWM4L|Zacks|Investment|Research|Upgrades|Torchmark|$|TMK|to|Buy|https|:|//t.co/yRaNxfV7BQ|$|AON|@|ApolloMinerals|provide|yet|more|compelling|evidence|that|Salau|is|one|of|the|highest|quality|#|Tungsten|#|Mines…|https|:|//t.co/VTbZPyMT3p|Critical|Survey|:|Nelnet|$|NNI|vs.|SLM|$|SLM|https|:|//t.co/SPbSRElqCr|RT|@|iRegMedOfficial|:|Our|Goal|is|maximum|Efficiency|with|minimal|side|effects|!|Prof.|Dr.|Ulrich|Schneider|$|IRM|#|Health|#|blockchain|#|bitcoi…|Laboratory|Corp.|of|America|$|LH|versus|InVitae|$|NVTA|Critical|Contrast|https|:|//t.co/6KkkoDsQwA|Comparing|C.H|.|Robinson|Worldwide|$|CHRW|&|amp|;|Expeditors|International|of|Washington|$|EXPD|https|:|//t.co/XULl9cysKe|Wells|Fargo|&|amp|;|Co|Analysts|Give|SLM|$|SLM|a|$|14.00|Price|Target|https|:|//t.co/BQdU2FCXKO|SLM|$|SLM|PT|Set|at|$|14.00|by|Wells|Fargo|&|amp|;|Co|https|:|//t.co/jwXmquwYCk|Stericycle|$|SRCL|Stock|Rating|Upgraded|by|Zacks|Investment|Research|https|:|//t.co/LMJvT2eQUT|Stericycle|$|SRCL|Lifted|to|“|Buy|”|at|Zacks|Investment|Research|https|:|//t.co/DVT9pzN5pT|Btw|Estimated|#|Earnings|Per|Share|for|$|IP|is|$|1.14|it|'s|2.18|%|of|the|current|price|https|:|//t.co/uUIF7IZDOj|Mettler-Toledo|International|$|MTD|&|amp|;|Quanterix|$|QTRX|Head-To-Head|Analysis|https|:|//t.co/jVGZA2xIwN|RT|@|beep_eminent|:|$|EMN|Eminent|Token|FUEL|for|BeepBeep|Nation|:|A|Decentralized|Helping|Economy|On|A|Mobile|Application|.|You|can|get|a|ri…|RT|@|beep_eminent|:|The|$|EMN|EMINENT|token|which|fuels|the|BeepBeep|Nation|app|will|be|available|for|purchase|on|Wednesday|June|27th|2018|.|Re…|Head-To-Head|Comparison|:|Quanterix|$|QTRX|vs.|Mettler-Toledo|International|$|MTD|https|:|//t.co/CfcywwJb6D|Nuance|Communications|$|NUAN|Upgraded|by|ValuEngine|to|“|Sell|”|https|:|//t.co/jP1NX6fVJD\""
            ]
          },
          "metadata": {
            "tags": []
          },
          "execution_count": 9
        }
      ]
    },
    {
      "cell_type": "code",
      "metadata": {
        "id": "F8hlDnd-exB0",
        "colab": {
          "base_uri": "https://localhost:8080/",
          "height": 188
        },
        "outputId": "412e7a70-3504-41a8-cf5d-27fd5fe52dfb"
      },
      "source": [
        "from nltk.stem.snowball import SnowballStemmer\n",
        "\n",
        "stemmer = SnowballStemmer(\"english\")\n",
        "stemmed = [stemmer.stem(word) for word in word_tokens]\n",
        "'|'.join(stemmed)"
      ],
      "execution_count": null,
      "outputs": [
        {
          "output_type": "execute_result",
          "data": {
            "application/vnd.google.colaboratory.intrinsic+json": {
              "type": "string"
            },
            "text/plain": [
              "\"video|:|“|i|was|in|my|offic|.|i|was|mind|my|own|busi|...|”|–david|solomon|tell|$|gs|intern|how|he|learn|he|wa…|https|:|//t.co/qclaitywxv|the|price|of|lumber|$|lb_f|is|down|22|%|sinc|hit|it|ytd|high|.|the|maci|'s|$|m|turnaround|is|still|happening.…|https|:|//t.co/xnksv4de39|who|say|the|american|dream|is|dead|?|https|:|//t.co/crgx19x7sa|barri|silbert|is|extrem|optimist|on|bitcoin|--|but|predict|that|99|%|of|new|crypto|entrant|are|“|go|to|zero…|https|:|//t.co/mgmvo2czgi|how|satellit|avoid|attack|and|space|junk|while|circl|the|earth|https|:|//t.co/ahziv3lqp5|#|paid|@|oracl|https|:|//t.co/kacpqzwidj|.|@|realmoney|'s|david|butler|'s|favorit|fang|stock|is|n't|#|realmoneysod|alphabet|but|facebook|https|:|//t.co/mczapsfjoi|don|’|t|miss|my|convo|with|one|of|my|favorit|thinker|@|samharrisorg|!|https|:|//t.co/uupvxiobch|u.s.|intellig|document|on|nelson|mandela|made|public|https|:|//t.co/xtnefo1ro6|https|:|//t.co/v8dxkwdq6r|senat|want|emerg|alert|to|go|out|through|netflix|spotifi|etc|.|https|:|//t.co/23yy3whblc|by|@|grg|hedg|fund|manag|marc|larsi|say|bitcoin|$|40k|is|possibl|https|:|//t.co/54upe0owqt|u.s.|propos|expedit|appeal|in|fight|with|at|&|amp|;|t|over|time|warner|purchas|https|:|//t.co/btjhzde3nu|https|:|//t.co/gh32zj4vpo|roger|feder|'s|uniqlo|deal|make|him|one|of|the|few|athlet|to|earn|more|than|$|70m|from|endorsements…|https|:|//t.co/jq8soayebq|bond|trader|are|ahead|of|jerom|powel|when|it|come|to|inflat|expect|https|:|//t.co/dkdzlcy3mt|via…|https|:|//t.co/ucx7eihp4r|alcoa|cut|adjust|ebitda|forecast|cite|tariff|share|slide|https|:|//t.co/mdmjxjnyi|https|:|//t.co/5o8fvwlhpi|custom|urg|boycott|of|mgm|resort|after|the|casino|file|lawsuit|against|mass|shoot|victims…|https|:|//t.co/dahk87dpma|the|gap|tighten|in|the|race|to|a|trillion|dollar|valuat|as|amazon|hit|$|900|billion|https|:|//t.co/zjzm25aglq|via…|https|:|//t.co/difuft6sgp|presid|trump|endors|brian|kemp|over|casey|cagl|in|georgia|governor|’|s|race|https|:|//t.co/vhgn5rnraw|white|hous|struggl|to|contain|fallout|from|trump-putin|summit|https|:|//t.co/ntzachjib|https|:|//t.co/flshaudrz|laker|guard|hart|name|summer|leagu|mvp|and|more|u.s.|sport|headlin|https|:|//t.co/rvryaqdpqd|https|:|//t.co/r5x71iffsl|onli|two|northern|white|rhino|still|exist|make|it|the|world|'s|most|endang|subspeci|of|mammal|https|:|//t.co/wejufervx6|trump|tell|cbs|he|'s|``|alway|want|''|to|be|interview|by|special|counsel|mueller|but|deflect|question|on|whethe…|https|:|//t.co/at43bigpdh|templeton|and|blackrock|say|now|'s|the|time|to|buy|emerg|market|https|:|//t.co/h4z90nxqwh|https|:|//t.co/6fkvrzlu3j|chart|say|#|realmoneysod|$|googl|could|rise|17|%|or|more|from|here|:|@|brucekamich|https|:|//t.co/czbry4dahn|ebay|revenu|miss|as|weak|u.s.|sport|season|hit|stubhub|https|:|//t.co/3rdnkmvun8|https|:|//t.co/n6ixpxezjg|new|york|citi|will|forc|airbnb|to|disclos|inform|on|it|host|https|:|//t.co/jdq88zbmgr|https|:|//t.co/9spvnk6cvu|rt|@|josheidelson|:|exclus|:|elon|musk|call|sierra|club|'s|execut|director|saturday|and|``|ask|for|some|help|via|twitter|''|the|green|gr…|new|time|:|janet|yellen|and|i|in|convers|at|brook|on|feb.|27|at|2|pm|est|.|join|us|onlin|or|on|facebook|liv…|https|:|//t.co/hdg7x5rc5p|the|robot|homi|r2-d2|told|me|to|buy|sell|and|hold|fidel|nation|inform|servic|$|fis|#|bullmarket|arthur|j|gallagh|&|amp|;|co|$|ajg|vs.|marsh|&|amp|;|mclennan|compani|$|mmc|critic|contrast|https|:|//t.co/aettr2nzeq|arthur|j|gallagh|&|amp|;|co|$|ajg|vs.|marsh|&|amp|;|mclennan|compani|$|mmc|critic|contrast|https|:|//t.co/cdjcvakg5d|$|info|$|c|asia|stock|signal|gain|;|dollar|weak|watch|:|market|wrap|via|https|:|//t.co/jurzdympxi|rt|@|dailypoliticaln|:|fluor|co.|$|new|$|flr|stock|rate|upgrad|by|zack|invest|research|https|:|//t.co/bpngsozjmh|averi|dennison|corpor|$|avi|ep|estim|at|$|1.56|-|https|:|//t.co/ygobscxv2k|what|'s|shake|guy|?|inflat|&|amp|;|bank|earn|are|some|of|your|market|shaker|this|week|:|https|:|//t.co/zuj03rrzaf…|https|:|//t.co/cewyqtbwv|ep|for|averi|dennison|corpor|$|avi|expect|at|$|1.56|https|:|//t.co/jgh1us4tjt|averi|dennison|corpor|$|avi|ep|estim|at|$|1.56|-|https|:|//t.co/tgdsfylo7v|rt|@|oliviabvoz|:|what|'s|shake|guy|?|inflat|&|amp|;|bank|earn|are|some|of|your|market|shaker|this|week|:|https|:|//t.co/zuj03rrzaf|$|pep|$|fst…|do|you|know|that|#|book|valu|for|$|xyl|is|$|13.92|https|:|//t.co/p8nny8vkf6|do|you|know|that|#|wallstreet|price|for|$|irm|is|$|38.83|https|:|//t.co/k8tfsufesc|wonder|about|risk|of|$|irm|?|the|21-day|volatil|is|4.12|%|https|:|//t.co/6kpjap4fac|$|or|max|pain=280.00|.|maturity=07/20/2018|.|#|maxpain|#|option|https|:|//t.co/e1qxoamxz0|https|:|//t.co/siiexlce1t|$|avb|max|pain=170.00|.|maturity=07/20/2018|.|#|maxpain|#|option|https|:|//t.co/ysw8y4pvl1|https|:|//t.co/55gylnjkc1|$|cube|$|exr|$|hog|$|ko|$|lsi|$|psa|$|irm|https|:|//t.co/n2jguhzqx1|mtts|week|watchlist|for|juli|9th|2018|$|cxo|$|hp|$|rspp|https|:|//t.co/poc5zdyb4j|analyst|expect|mosaic|co|$|mos|will|announc|earn|of|$|0.38|per|share|https|:|//t.co/wuz5n5cryo|$|2.29|billion|in|sale|expect|for|mosaic|co|$|mos|this|quarter|https|:|//t.co/tvqe3lexlh|in|2|day|i|doubl|my|account|with|the|option|trade|from|https|:|//t.co/fuqggnsgd|#|winner|#|nojok|$|xrx|$|mrtx…|https|:|//t.co/zgfirugsvq|$|ni|high|oi|rang|is|26.00|to|26.00|for|option|expir|07/20/2018|#|maxpain|#|option|https|:|//t.co/sofr3eiash|https|:|//t.co/1bidccf6kl|rt|@|tradesatoshi|:|$|amg|amgchain|will|be|delist|from|tradesatoshi|the|31/07/18|dev|reset|the|blockchain|and|did|not|inform|us|caus|lo…|payment|halt|under|obamacar|program|https|:|//t.co/yuvehjiqti|$|unh|$|aet|$|antm|$|ci|$|hum|$|wcg|$|cnc|$|moh…|https|:|//t.co/brxhrxnkgm|rt|@|forever_t_2000|:|there|goe|$|sode|break|thing|again|.|at|least|they|re|get|paid|to|fix|it|.|$|acm|$|aegn|$|agx|$|bflbf|$|bld|$|dy|$|em…|$|jec|max|pain=65.00|.|maturity=07/20/2018|.|#|maxpain|#|option|https|:|//t.co/usabq5qauk|https|:|//t.co/xo6ew72bwa|rt|@|forever_t_2000|:|there|goe|$|sode|break|thing|again|.|at|least|they|re|get|paid|to|fix|it|.|$|acm|$|aegn|$|agx|$|bflbf|$|bld|$|dy|$|em…|short|sale|volum|(|not|short|interest|)|for|$|ijr|on|2018-07-06|is|78|%|.|https|:|//t.co/sjqeevueqm|$|sen|80|%|$|dvn|67|%|$|xli|54|%|$|odp|46|%|$|coo|high|oi|rang|is|220.00|to|250.00|for|option|expir|07/20/2018|#|maxpain|#|option|https|:|//t.co/mww1x55xnb|https|:|//t.co/9ftdfqcclb|rt|@|forever_t_2000|:|there|goe|$|sode|break|thing|again|.|at|least|they|re|get|paid|to|fix|it|.|$|acm|$|aegn|$|agx|$|bflbf|$|bld|$|dy|$|em…|$|snps|had|hire|more|while|rival|$|cdns|had|reduc|headcount|https|:|//t.co/ernhktpuhr|$|info|$|pep|five|thing|you|need|to|know|to|start|your|day|via|https|:|//t.co/jurzdympxi|new|#|job|#|open|growth|$|snps|v/s|$|cdns|https|:|//t.co/lnw3lls96a|rt|@|wallstjesus|:|repeat|buy|in|biotech|$|arri|https|:|//t.co/gfthdudyw6|$|reg|max|pain|is|60.00|for|matur|07/20/2018|.|#|maxpain|#|option|https|:|//t.co/5wnnlwjml5|https|:|//t.co/conb8dr1lx|rt|@|oliviabvoz|:|what|'s|shake|guy|?|inflat|&|amp|;|bank|earn|are|some|of|your|market|shaker|this|week|:|https|:|//t.co/zuj03rrzaf|$|pep|$|fst…|rt|@|optionshawk|:|$|ajg|ceo|bought|$|600k|in|stock|may|be|one|to|follow|alway|been|a|prefer|play|of|mine|in|this|group|sit|right|on…|rt|@|tradewithjo|:|juli|19|and|20|call|activ|today|-|$|arri|https|:|//t.co/6p8zlv6cvv|robert|half|intern|inc.|$|rhi|analyst|see|$|0.85|ep|-|https|:|//t.co/yms25tso8a|$|0.85|ep|expect|for|robert|half|intern|inc.|$|rhi|https|:|//t.co/uheqbyjnx1|ep|for|robert|half|intern|inc.|$|rhi|expect|at|$|0.85|-|https|:|//t.co/9zx0sjuanr|rt|@|mttstrade|:|mtts|week|watchlist|for|juli|9th|2018|$|cxo|$|hp|$|rspp|https|:|//t.co/poc5zdyb4j|rt|@|wallstjesus|:|repeat|buy|in|biotech|$|arri|https|:|//t.co/gfthdudyw6|insid|wk|scan|$|akam|$|amat|$|axp|$|ba|$|blue|$|box|$|bzun|$|c|$|cat|$|cmcsa|$|csco|$|dbx|$|dis|$|de|$|docu|$|dltr|$|ebay|$|fdx…|https|:|//t.co/c1laququfu|$|jd|$|arri|$|pypl|$|ui|5min|--|daili|setup|for|monday|.|https|:|//t.co/qrlbgcsrun|rt|@|dgarciachart|:|insid|wk|scan|$|akam|$|amat|$|axp|$|ba|$|blue|$|box|$|bzun|$|c|$|cat|$|cmcsa|$|csco|$|dbx|$|dis|$|de|$|docu|$|dltr|$|ebay|$|fdx|$|fey|$|fs…|rt|@|wallstjesus|:|repeat|buy|in|biotech|$|arri|https|:|//t.co/gfthdudyw6|short|sale|vol|(|not|short|interest|)|for|$|cyh|on|2018-07-06|is|72|%|.|https|:|//t.co/ev0voqfmlv|$|thc|65|%|$|sem|48|%|$|ssi|32|%|$|hca|62|%|rt|@|forever_t_2000|:|there|goe|$|sode|break|thing|again|.|at|least|they|re|get|paid|to|fix|it|.|$|acm|$|aegn|$|agx|$|bflbf|$|bld|$|dy|$|em…|finisar|co.|$|fnsr|expect|to|announc|quarter|sale|of|$|315.26|million|https|:|//t.co/ns3mdf4jva|finisar|co.|$|fnsr|expect|to|post|quarter|sale|of|$|315.26|million|https|:|//t.co/rfbripr0zq|possibl|play|:|$|sgmo|$|txmd|$|abus|$|vktx|$|ecyt|$|vstm|$|sgyp|$|trvn|$|nvax|$|opk|$|ocul|$|gern|$|vrx|$|tsro|$|akao|let|’|s|see|what|i|pick|.|follow|!|📈|rt|@|tradewithjo|:|$|spi|option|flow|alert|-|https|:|//t.co/nzc3w6bzni|$|eem|$|arri|$|car|$|jd|$|bll|$|v|$|cazr|$|bx|$|vip|$|opk|$|bac|$|wfc|$|xop|$|jw…|rt|@|dgarciachart|:|insid|wk|scan|$|akam|$|amat|$|axp|$|ba|$|blue|$|box|$|bzun|$|c|$|cat|$|cmcsa|$|csco|$|dbx|$|dis|$|de|$|docu|$|dltr|$|ebay|$|fdx|$|fey|$|fs…|buy|in|option|land|on|friday|7/6|!|$|qsr|$|igt|$|skx|$|voya|$|fcx|$|nvo|$|pxd|$|vip|$|vvv|$|sgms|$|pii|$|etfc|$|bll|$|gpro…|https|:|//t.co/zcyw6k1vtv|short|sale|volum|(|not|short|interest|)|for|$|wu|on|2018-07-06|is|38|%|.|https|:|//t.co/mn0bezrlba|$|fis|45|%|$|ma|58|%|$|mgi|26|%|$|wex|53|%|week|recap|:|$|hsi|price|move|4.28|%|sinc|post|-|next|stop|98.50|.|other|trade|includ|aa|spi|baba|mdso|ayi|fb|sh…|https|:|//t.co/ugd8esohx8|$|anss|high|oi|rang|is|150.00|to|170.00|for|option|expir|07/20/2018|#|maxpain|#|option|https|:|//t.co/l4wbkagcvu|https|:|//t.co/9ijkhxtpyu|rt|@|oliviabvoz|:|what|'s|shake|guy|?|inflat|&|amp|;|bank|earn|are|some|of|your|market|shaker|this|week|:|https|:|//t.co/zuj03rrzaf|$|pep|$|fst…|monday|’|s|watch1|$|amzn|$|googl|$|fb|$|aapl|$|amd|$|bidu|$|baba|$|btc.x|$|eth.x|$|biib|$|celg|$|gild|$|intc|$|jd|$|arql|$|arri|$|arwr…|https|:|//t.co/ku6wqg8eci|$|pnr|broker|price|target|0.36|https|:|//t.co/dhagjaarxd|https|:|//t.co/obz0uxv4jb|rt|@|mchaudhry82|:|monday|’|s|watch1|$|amzn|$|googl|$|fb|$|aapl|$|amd|$|bidu|$|baba|$|btc.x|$|eth.x|$|biib|$|celg|$|gild|$|intc|$|jd|$|arql|$|arri|$|arwr|$|endp…|short|sale|vol|(|not|short|interest|)|for|$|amat|on|2018-07-06|is|38|%|.|https|:|//t.co/h8suzh3hld|$|lrcx|39|%|$|snps|34|%|$|ter|51|%|$|klac|55|%|rt|@|forever_t_2000|:|there|goe|$|sode|break|thing|again|.|at|least|they|re|get|paid|to|fix|it|.|$|acm|$|aegn|$|agx|$|bflbf|$|bld|$|dy|$|em…|$|mos|d1|outsid|day|&|gt|;|50sma|https|:|//t.co/aq5tf1keki|$|0.46|ep|expect|for|ddr|corp.|$|ddr|https|:|//t.co/a94ingfhs8|rt|@|kelvo1972|:|my|watch|list|for|tomorrow|.|$|fb|$|aapl|$|ba|$|nvda|$|baba|$|el|same|as|alway|.|when|you|learn|and|tune|in|to|a|small|hand|full|of…|revers|merger|tweet|$|qqq|$|aapl|$|tvix|$|veon|$|csco|$|siri|$|rook|$|mu|$|msft|$|fb|$|sqqq|$|intc|$|cmcsa|$|amat|$|nvda|$|sgmo…|https|:|//t.co/evp23dqmfp|swing|trade|-|watchlist|this|week|-|chart|candlegl|$|ipgp|$|vrns|$|anet|$|mdb|$|tif|$|olli|$|expd|$|ea|$|kmg|$|hd…|https|:|//t.co/ynu9j6qs1j|revers|merger|tweet|$|pten|$|nwl|$|tjx|$|epd|$|tbt|$|ne|$|tal|$|spxs|$|mxim|$|well|$|mmm|$|src|$|csx|$|kbr|$|mhk|$|odp|$|mhk|$|src…|https|:|//t.co/pf7doc6awb|rt|@|forever_t_2000|:|there|goe|$|sode|break|thing|again|.|at|least|they|re|get|paid|to|fix|it|.|$|acm|$|aegn|$|agx|$|bflbf|$|bld|$|dy|$|em…|rt|@|oneoclockdrop|:|revers|merger|tweet|$|pten|$|nwl|$|tjx|$|epd|$|tbt|$|ne|$|tal|$|spxs|$|mxim|$|well|$|mmm|$|src|$|csx|$|kbr|$|mhk|$|odp|$|mhk|$|src|$|pep|$|…|$|3.98|billion|in|sale|expect|for|jacob|engin|group|inc|$|jec|this|quarter|https|:|//t.co/iixnxlmm3r|$|abg|$|algn|$|ba|$|dltr|$|htht|$|kor|$|nsp|$|spi|$|uri|https|:|//t.co/cstz6m4whm|short|sale|volum|(|not|short|interest|)|for|$|d|on|2018-07-06|is|60|%|.|https|:|//t.co/lsb9hlo5r|$|aee|58|%|$|cms|58|%|$|exc|49|%|$|sre|56|%|$|ajg|arthur|j.|gallagh|&|amp|;|co.|acquir|miln|alexand|from|our|stock|news|alert|app|a|portfolio|for|@|johnauth|.|$|abg|$|algn|$|ba|$|dltr|$|htht|$|kor|$|nsp|$|spi|$|uri|https|:|//t.co/jowdekxf44|zack|:|brokerag|anticip|aon|plc|$|aon|will|post|quarter|sale|of|$|2.50|billion|https|:|//t.co/z6yqecpiv|contrast|miragen|therapeut|$|mgen|&|amp|;|laboratori|corp.|of|america|$|lh|https|:|//t.co/t5nje0ksyf|$|aan|$|aapl|$|abbv|$|adm|$|afl|$|all|$|am|$|amgp|$|amp|$|amt|$|andx|$|aon|$|ao|$|apd|$|apog|$|aqn|$|avgo|$|ay|$|bac|$|bam|$|bep|$|bip|https|:|//t.co/9k5fogxr9m|apart|invest|and|manag|’|s|$|aiv|“|hold|”|rate|reiter|at|bmo|capit|market|https|:|//t.co/6ub1h9alyc|everest|re|group|$|re|and|heritag|insur|$|hrtg|critic|contrast|https|:|//t.co/lsixqgnwyl|$|ar|$|cgc|$|dave|$|gnc|$|hsi|$|icon|$|kmb|$|m|$|pep|$|pg|$|rrc|$|smrt|$|wtw|https|:|//t.co/ctcjlhvvlz|rt|@|seekingalpha|:|$|ar|$|cgc|$|dave|$|gnc|$|hsi|$|icon|$|kmb|$|m|$|pep|$|pg|$|rrc|$|smrt|$|wtw|https|:|//t.co/ctcjlhvvlz|the|western|union|$|wu|stock|rate|upgrad|by|zack|invest|research|https|:|//t.co/qldhh48fm0|the|western|union|$|wu|stock|rate|upgrad|by|zack|invest|research|https|:|//t.co/uuulg2pweu|westrock|$|wrk|given|a|$|63.00|price|target|at|stephen|https|:|//t.co/vnbfxavgcp|analyz|pjt|partner|$|pjt|&|amp|;|affili|manag|group|$|amg|https|:|//t.co/vnrfgwabpw|westrock|$|wrk|given|a|$|63.00|price|target|at|stephen|https|:|//t.co/wcu2tktb4v|c.h|.|robinson|worldwid|$|chrw|versus|expeditor|intern|of|washington|$|expd|head-to-head|analysi|https|:|//t.co/yflkrx4o87|critic|survey|:|c.h|.|robinson|worldwid|$|chrw|and|expeditor|intern|of|washington|$|expd|https|:|//t.co/p5nmjwmrdi|affili|manag|group|$|amg|versus|pjt|partner|$|pjt|critic|analysi|https|:|//t.co/8cpfxaxzyb|$|pnr|readi|to|attack|🗡|recent|high|.|need|volum|🚀🚨|https|:|//t.co/0yge51dvcp|argus|trim|harri|$|hrs|target|price|to|$|170.00|https|:|//t.co/cjftg7cafr|advanc|auto|part|$|aap|rate|increas|to|buy|at|valuengin|https|:|//t.co/kzqlnvusb5|rt|seekingalpha|``|$|bwp|$|ns|$|smlp|$|mmp|$|bpl|$|bkep|$|ceqp|$|nsh|$|pagp|$|oke|$|semg|$|tge|$|enb|$|ipplf|$|ppl|$|key|$|bip|$|too…|https|:|//t.co/lniawbtblf|rt|seekingalpha|``|$|abg|$|algn|$|ba|$|dltr|$|htht|$|kor|$|nsp|$|spi|$|uri|https|:|//t.co/yxn1f1x93i|''|rt|seekingalpha|``|$|aan|$|aapl|$|abbv|$|adm|$|afl|$|all|$|am|$|amgp|$|amp|$|amt|$|andx|$|aon|$|ao|$|apd|$|apog|$|aqn|$|avgo|$|ay…|https|:|//t.co/qqhydckkjr|rt|seekingalpha|``|$|ar|$|cgc|$|dave|$|gnc|$|hsi|$|icon|$|kmb|$|m|$|pep|$|pg|$|rrc|$|smrt|$|wtw|https|:|//t.co/nlewsj1ez|''|q2|$|qtwo|versus|ansi|$|anss|critic|review|https|:|//t.co/b3uyb4f1qa|head-to-head|review|:|q2|$|qtwo|vs.|ansi|$|anss|https|:|//t.co/2detioabgm|$|aon|@|apollominer|–|excel|infrastructur|and|ground|condit|confirm|at|histor|salau|#|tungsten|mine|https|:|//t.co/0exvmujfva|rt|@|themotleyfool|:|2|true-blu|tech|play|plus|a|tooth|tech|play|.|and|all|3|look|undervalu|.|$|ibm|$|mu|$|xray|https|:|//t.co/lrxgdgg0nl|head|to|head|review|:|mettler-toledo|intern|$|mtd|&|amp|;|fluidigm|$|fldm|https|:|//t.co/lyk912kyxi|dentspli|sirona|$|xray|upgrad|to|hold|at|bidaskclub|https|:|//t.co/ixdxf7ydpo|dentspli|sirona|$|xray|upgrad|at|bidaskclub|https|:|//t.co/jmfwmjxpyz|rt|@|brand_uk|:|$|aon|@|apollominer|–|excel|infrastructur|and|ground|condit|confirm|at|histor|salau|#|tungsten|mine|https|:|//t.…|zack|invest|research|upgrad|torchmark|$|tmk|to|buy|https|:|//t.co/bvasedwm4l|zack|invest|research|upgrad|torchmark|$|tmk|to|buy|https|:|//t.co/yranxfv7bq|$|aon|@|apollominer|provid|yet|more|compel|evid|that|salau|is|one|of|the|highest|qualiti|#|tungsten|#|mines…|https|:|//t.co/vtbzpymt3p|critic|survey|:|nelnet|$|nni|vs.|slm|$|slm|https|:|//t.co/spbsrelqcr|rt|@|iregmedoffici|:|our|goal|is|maximum|effici|with|minim|side|effect|!|prof.|dr.|ulrich|schneider|$|irm|#|health|#|blockchain|#|bitcoi…|laboratori|corp.|of|america|$|lh|versus|invita|$|nvta|critic|contrast|https|:|//t.co/6kkkodsqwa|compar|c.h|.|robinson|worldwid|$|chrw|&|amp|;|expeditor|intern|of|washington|$|expd|https|:|//t.co/xull9cysk|well|fargo|&|amp|;|co|analyst|give|slm|$|slm|a|$|14.00|price|target|https|:|//t.co/bqdu2fcxko|slm|$|slm|pt|set|at|$|14.00|by|well|fargo|&|amp|;|co|https|:|//t.co/jwxmquwyck|stericycl|$|srcl|stock|rate|upgrad|by|zack|invest|research|https|:|//t.co/lmjvt2equt|stericycl|$|srcl|lift|to|“|buy|”|at|zack|invest|research|https|:|//t.co/dvt9pzn5pt|btw|estim|#|earn|per|share|for|$|ip|is|$|1.14|it|'s|2.18|%|of|the|current|price|https|:|//t.co/uuif7izdoj|mettler-toledo|intern|$|mtd|&|amp|;|quanterix|$|qtrx|head-to-head|analysi|https|:|//t.co/jvgza2xiwn|rt|@|beep_emin|:|$|emn|emin|token|fuel|for|beepbeep|nation|:|a|decentr|help|economi|on|a|mobil|applic|.|you|can|get|a|ri…|rt|@|beep_emin|:|the|$|emn|emin|token|which|fuel|the|beepbeep|nation|app|will|be|avail|for|purchas|on|wednesday|june|27th|2018|.|re…|head-to-head|comparison|:|quanterix|$|qtrx|vs.|mettler-toledo|intern|$|mtd|https|:|//t.co/cfcywwjb6d|nuanc|communic|$|nuan|upgrad|by|valuengin|to|“|sell|”|https|:|//t.co/jp1nx6fvjd\""
            ]
          },
          "metadata": {
            "tags": []
          },
          "execution_count": 10
        }
      ]
    },
    {
      "cell_type": "code",
      "metadata": {
        "id": "ZyUMGKpbemqx"
      },
      "source": [
        "def analyse_stem(stemmer, original_):\n",
        "  length_dist_original = []\n",
        "  length_dist_stemmed = []\n",
        "  for original in original_:\n",
        "    original = nltk.word_tokenize(original)\n",
        "    stemmed = [stemmer.stem(word) for word in original]\n",
        "    #print(\"Number of distinct tokens for original\", len(set(original)))\n",
        "    #print(\"Number of distinct tokens for stemmed\", len(set(stemmed)))\n",
        "    length_dist_original.extend([len(word) for word in original])\n",
        "    length_dist_stemmed.extend([len(word) for word in stemmed])\n",
        "\n",
        "  print(\"Original Average:\", sum(length_dist_original)/len(length_dist_original))\n",
        "  print(\"Stemmed Average:\", sum(length_dist_stemmed)/len(length_dist_stemmed))\n",
        "\n",
        "  plt.hist(length_dist_original, bins=20, alpha=0.5, label='original')\n",
        "  plt.hist(length_dist_stemmed, bins=20, alpha=0.5, label='stemmed')\n",
        "  plt.legend()\n",
        "  plt.xlabel('Length of a token in number of characters')\n",
        "  plt.ylabel('Number of tokens')   \n",
        "  plt.title('Effect of stemming on Finance Tweets tokens')"
      ],
      "execution_count": null,
      "outputs": []
    },
    {
      "cell_type": "code",
      "metadata": {
        "id": "LvknLGNFtCCM",
        "colab": {
          "base_uri": "https://localhost:8080/",
          "height": 329
        },
        "outputId": "a07ed2b6-b25b-4c3c-ab7c-8fd4b040b571"
      },
      "source": [
        "analyse_stem(stemmer, word_tokens)"
      ],
      "execution_count": null,
      "outputs": [
        {
          "output_type": "stream",
          "text": [
            "Original Average: 4.148849402854646\n",
            "Stemmed Average: 3.888435770463152\n"
          ],
          "name": "stdout"
        },
        {
          "output_type": "display_data",
          "data": {
            "image/png": "[encoded data removed]",
            "text/plain": [
              "<Figure size 432x288 with 1 Axes>"
            ]
          },
          "metadata": {
            "tags": [],
            "needs_background": "light"
          }
        }
      ]
    },
    {
      "cell_type": "markdown",
      "metadata": {
        "id": "BpcAySketCCV"
      },
      "source": [
        "### 3b. Sentence Segmentation"
      ]
    },
    {
      "cell_type": "code",
      "metadata": {
        "id": "yBcPYzFltCCX"
      },
      "source": [
        "sent_tokens = nltk.sent_tokenize(df3.iloc[3])"
      ],
      "execution_count": null,
      "outputs": []
    },
    {
      "cell_type": "code",
      "metadata": {
        "id": "N_dJPtMvtCCi",
        "colab": {
          "base_uri": "https://localhost:8080/"
        },
        "outputId": "1f5f3b09-82b0-41bd-82e2-a7b7773c9aa4"
      },
      "source": [
        "[len(nltk.word_tokenize(sent_token)) for sent_token in sent_tokens]"
      ],
      "execution_count": null,
      "outputs": [
        {
          "output_type": "execute_result",
          "data": {
            "text/plain": [
              "[25]"
            ]
          },
          "metadata": {
            "tags": []
          },
          "execution_count": 40
        }
      ]
    },
    {
      "cell_type": "markdown",
      "metadata": {
        "id": "9uYZMmcdtCCq"
      },
      "source": [
        "#3c. POS Tagging"
      ]
    },
    {
      "cell_type": "code",
      "metadata": {
        "id": "1LfLMTHLnGSr",
        "colab": {
          "base_uri": "https://localhost:8080/"
        },
        "outputId": "a3e58da5-7315-4b0f-ed3c-d01df039e42c"
      },
      "source": [
        "nltk.download('averaged_perceptron_tagger')"
      ],
      "execution_count": null,
      "outputs": [
        {
          "output_type": "stream",
          "text": [
            "[nltk_data] Downloading package averaged_perceptron_tagger to\n",
            "[nltk_data]     /root/nltk_data...\n",
            "[nltk_data]   Package averaged_perceptron_tagger is already up-to-\n",
            "[nltk_data]       date!\n"
          ],
          "name": "stdout"
        },
        {
          "output_type": "execute_result",
          "data": {
            "text/plain": [
              "True"
            ]
          },
          "metadata": {
            "tags": []
          },
          "execution_count": 23
        }
      ]
    },
    {
      "cell_type": "code",
      "metadata": {
        "id": "eyVW8LE8tCCs"
      },
      "source": [
        "word_tokens = nltk.word_tokenize(sent_tokens[1])\n",
        "nltk.pos_tag(word_tokens)"
      ],
      "execution_count": null,
      "outputs": []
    }
  ]
}